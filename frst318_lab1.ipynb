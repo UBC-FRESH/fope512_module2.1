{
 "cells": [
  {
   "cell_type": "markdown",
   "metadata": {},
   "source": [
    "# FRST-318 Lab 1"
   ]
  },
  {
   "cell_type": "markdown",
   "metadata": {},
   "source": [
    "Use this link to do the thing:\n",
    "\n",
    "https://ubc.syzygy.ca/jupyter/hub/user-redirect/git-pull?repo=https://github.com/gparadis/ubc-frst318&branch=master&subpath=frst318_lab1.ipynb"
   ]
  },
  {
   "cell_type": "markdown",
   "metadata": {},
   "source": [
    "## Introduction\n",
    "\n",
    "Welcome to FRST-318 Lab 1! If you made it this far, then you must have clicked on a link posted to Canvas, which opened up in the system default browser on your workstation, where you were asked to log in using your UBC CWL credentials, then some automated stuff happened really quickly, and somehow you ended up here. \n",
    "\n",
    "You are looking at a _Jupyter Notebook_ (running in the _JupyterLab_ interface), hosted on the UBC _Syzygy_ server. We will be using this environment for several labs throughout the term, so we will now unpack that the previous sentence into its constituent bits.\n",
    "\n",
    "### Jupyter Notebook\n",
    "\n",
    "The from [Project Jupyter][1] website:\n",
    ">The Jupyter Notebook is an open-source web application that allows you to create and share documents that contain live code, equations, visualizations and narrative text. Uses include: data cleaning and transformation, numerical simulation, statistical modeling, data visualization, machine learning, and much more.\n",
    "\n",
    "We will use the Jupyter Notebook medium to present text, links, equations, and live code. We will use the notebooks to import and manipulate data, create interactive visualizations, etc. The goal here is to re-inforce and bring to life some of the technical concepts presented during the lectures, in an interactive and (hopefully) fun way.\n",
    "\n",
    "### JupyterLab\n",
    "\n",
    "The from [JupyterLab documentation][2]:\n",
    ">JupyterLab is the next-generation web-based user interface for Project Jupyter. JupyterLab enables you to work with documents and activities such as Jupyter notebooks, text editors, terminals, and custom components in a flexible, integrated, and extensible manner. You can arrange multiple documents and activities side by side in the work area using tabs and splitters. Documents and activities integrate with each other, enabling new workflows for interactive computing.\n",
    "\n",
    "JupyterLab is the interface that you use to view, edit, and run the notebooks. It is relatively simple to use, and we will provide all the training you need to get up and running.\n",
    "\n",
    "### Syzygy\n",
    "\n",
    "From the [Syzygy documentation][3]:\n",
    ">Syzygy is a project of the Pacific Institute for the Mathematical Sciences (PIMS), Compute Canada and Cybera to bring Jupyter notebooks to researchers, educators and innovators across Canada. This site is a brief introduction on how to use these computing tools. Syzygy is pronounced like the start of “Sizzle” – sizz eh gee. It means the alignment of three or more celestial objects. In this book, it represents the alignment of text, math, and code in a convenient tool called a Jupyter notebook.\n",
    "\n",
    "Syzygy is the software+hardware backend that some smart people at UBC set up for us and linked to your CWL login. This would be relatively complicated for individual instructors to set up and maintain. Thanks to UBC, PIMS, Compute Canada, and Cybera for setting this up! \n",
    "\n",
    "[1]:https://jupyter.org/ \"jupyter.org\"\n",
    "[2]:https://jupyterlab.readthedocs.io/en/stable/getting_started/overview.html \"jupyterlab.readthedocs.io\"\n"
   ]
  },
  {
   "cell_type": "markdown",
   "metadata": {},
   "source": [
    "## Overview\n",
    "\n",
    "This lab will loop back to some of the quantitative microeconomic topics that we covered in class during weeks 1-3. For each topic, we provide a quick recap the theory, followed by an interactive simulation. Our objective is to _bring to life_ and _demystify_ some of the key quantitative microeconmic topics (that we suspect, from past experience and student feedback) that some of you may still be struggling with. \n",
    "\n",
    "More specifically, this lab will cover:\n",
    "* production functions and isoquants\n",
    "* isorevenu and isocost\n",
    "* optimal production points\n",
    "* diminishing marginal return\n",
    "* shadow pricing\n",
    "\n",
    "To complete this lab, simply read through this notebook from top to bottom, and follow the instructions. At several points, you will be asked to perform specify tasks (e.g., find the minimum cost solution to a production problem), and to record specify information or to save specify output files (which you will later submit via the Canvas interface to get credit for this lab). \n",
    "\n",
    "An instructor and a TA will be present throughout the lab session, to answer questions, help with technical issues, and generally help you connect all the dots.   \n",
    "\n",
    "__Canvas lab submissions will be due before midnight on Friday each week.__ Late submissions will not be graded. If you cannot finish all of the tasks before the end of the lab period, you can finish the lab later (you can log into the the Syzygy interface from any computer with a browser and an internet access). "
   ]
  },
  {
   "cell_type": "markdown",
   "metadata": {},
   "source": [
    "## Production functions\n",
    "\n",
    "A _production function_ describes the _output_ of a production process to its _inputs_, from the perspective of the producer.\n",
    "\n",
    "We will model a production function for a firm that produces a single output $q \\in \\mathbb{R}+$. We could generalize this to include firms that produce multiple products, but that induces some extra challenges with displaying output, so for this labw we will limit the analysis to single-product firms.\n",
    "\n",
    "In the general case, a firm can have a set $\\{z_1, z_2, \\dots, z_N\\}$ inputs. For this lab, we will limit our analysis to 2 inputs (e.g., labour and capital, like in the examples shown during some of the lectures).\n",
    "\n",
    "Now that we have a few limiting assumptions in place, we can map output to inputs with a production function\n",
    "\n",
    "$$\n",
    "f(z_1, z_2) = {z_1}^u {z_2}^v\n",
    "$$\n",
    "\n",
    "This specific form of the production function is known as the _Cobb-Douglas_ production function, after Charles W. Cobb and Paul H. Douglas, who first published this production in [The American Economic Review][1] in 1928.\n",
    "\n",
    "The $q$-isoquants of $f$ are given by\n",
    "\n",
    "$$\n",
    "q = {z_1}^u {z_2}^v\n",
    "$$\n",
    "\n",
    "where $q$ is a fixed (arbitrary) value of $f$.\n",
    "\n",
    "The parameters $u$ and $v$ relate productivity to the magnitude of each input.  \n",
    "\n",
    "If $u + v > 1$, the system has _increasing returns to scale_. \n",
    "When $u + v < 1$, the system has _diminishing returns to scale_. \n",
    "When $u + v = 1$, the system has _constant returns to scale_.\n",
    "\n",
    "Now, lets putting all this theory into practice using some Python code, which will generate some interactive plots of the system. These will include some variables that we can manipulate, which will help you better understand how all the pieces of the puzzle fit together. \n",
    "\n",
    "[1]:http://www2.econ.iastate.edu/classes/econ521/Orazem/Papers/cobb-douglas.pdf \"Cobb and Douglas (1928)\""
   ]
  },
  {
   "cell_type": "markdown",
   "metadata": {},
   "source": [
    "## Note on running code\n",
    "\n",
    "Python code in Jupyter Notebooks is organized into _cells_. Each cell can be run one at a time. Generally, we will run the cells in the order they appear in the notebook, but sometimes we will want to go back and run one or more cells again. Running.\n",
    "\n",
    "Run a code cell using `Shift-Enter` or by clicking the _Run_ button in the toolbar. Try it on the next cell, which contains some code that loads a bunch of software libraries we need later on."
   ]
  },
  {
   "cell_type": "code",
   "execution_count": 1,
   "metadata": {},
   "outputs": [],
   "source": [
    "from ipywidgets import interact, interactive, fixed, interact_manual\n",
    "import ipywidgets as widgets\n",
    "import pandas as pd\n",
    "import numpy as np\n",
    "import seaborn as sns\n",
    "import matplotlib.pyplot as plt\n",
    "from matplotlib import cm\n",
    "from mpl_toolkits.mplot3d import Axes3D\n",
    "%matplotlib inline"
   ]
  },
  {
   "cell_type": "markdown",
   "metadata": {},
   "source": [
    "You should now see `[1]:` appear in the margin to the left of the cell you just ran, indictating that this is the first cell you ran (since starting the Python kernel). Try running the cell again, and this should change to `[2]:`. While a cell is running, you will see `[*]` displayed (and when done running will change to an updated number). "
   ]
  },
  {
   "cell_type": "markdown",
   "metadata": {},
   "source": [
    "The following cell defines Python functions for the 2-input production function $f(z_1, z_2)$ described earlier, along with some utility functions that we will use to plot the $q$-isoquant curve, the tangent to the $q$-isoquant at a given point, and the isocost line the passes through that same point. "
   ]
  },
  {
   "cell_type": "code",
   "execution_count": 8,
   "metadata": {},
   "outputs": [],
   "source": [
    "def pf_q(z1, z2, u=0.5, v=0.5):\n",
    "    \"\"\"The Cobb-Douglas production function.\"\"\"\n",
    "    return (z1**u) * (z2**v)\n",
    "\n",
    "def pf_z1(z2, q, u=0.5, v=0.5):\n",
    "    \"\"\"The Cobb-Douglas production function q-isoquant, inverted to return z1 (which we will plot on the y-axis).\"\"\"\n",
    "    return (q/(z2**v))**(1/(u))\n",
    "\n",
    "def plot_isoquant(q, ix, u=0.5, v=0.5, uc1=10., uc2=10., nx=100, xmax=1000):\n",
    "    \"\"\"\n",
    "    For given q, plots:\n",
    "      * the q-isoquant;\n",
    "      * a point on the q-isoquant matching the corresponding value of z2 \n",
    "        (from a linear space [1, xmax] discretized into nz2 );\n",
    "      * the tangent at that point;\n",
    "      * the isocost line at that point.\n",
    "      \n",
    "    Parameters u and v control return-to-scale behaviour with respect to z1 and z2.\n",
    "    Parameters uc1 and uc2 control unit cost of inputs z1 and z2.\n",
    "    \"\"\"\n",
    "    fig = plt.gcf()\n",
    "    f = np.vectorize(pf_z1)\n",
    "    X = np.linspace(1, xmax, num=nx)\n",
    "    x = X[ix]\n",
    "    Y = f(X, q, u, v)\n",
    "    y = f(x, q, u, v)\n",
    "    plt.plot(X, Y)\n",
    "    plt.scatter(x, f(x, q, u, v))\n",
    "    rts = (u/v)*f(x, q, u, v)/x\n",
    "    m_xtan = x*rts + y\n",
    "    #(r*k + w*l)/w\n",
    "    plt.plot([0, m_xtan/rts], [m_xtan, 0], linestyle=':')\n",
    "    plt.plot([0, (uc2*x + uc1*y)/uc2], [(uc2*x + uc1*y)/uc1, 0], linestyle='-')\n",
    "    plt.xlim(0, 1000)\n",
    "    plt.ylim(0, 1000)\n",
    "    fig.set_size_inches(7, 7)\n",
    "    plt.xlabel('Quantity of input z1')\n",
    "    plt.ylabel('Quantity of input z2')\n",
    "    plt.show()\n",
    "    print('z1', '%0.1f' % y)\n",
    "    print('z2', '%0.1f' % x)\n",
    "    print('cost_z1', int(uc1*y))\n",
    "    print('cost_z2', int(uc2*x))\n",
    "    print('cost_tot', int(uc2*x + uc1*y))\n",
    "\n",
    "def plot_f_contours(plot_xproj_contours=False, \n",
    "                    plot_yproj_contours=False, \n",
    "                    plot_zproj_contours=False, \n",
    "                    plot_3d_contours=False,\n",
    "                    plot_surface=False,\n",
    "                    plot_100isoquant=False,\n",
    "                    plot_rts=False,\n",
    "                    q=100., u=0.5, v=0.5):\n",
    "    X = Y = np.arange(0., 500, 1.)\n",
    "    X, Y = np.meshgrid(X, Y)\n",
    "    Z = np.vectorize(pf_q)(X, Y, u, v) \n",
    "    fig = plt.figure(figsize=(12, 10))\n",
    "    ax = fig.add_subplot(111, projection='3d')\n",
    "    if plot_xproj_contours:\n",
    "        ax.contour(X, Y, Z, zdir='x', offset=0, cmap=cm.coolwarm)\n",
    "    if plot_yproj_contours:\n",
    "        ax.contour(X, Y, Z, zdir='y', offset=0, cmap=cm.coolwarm)\n",
    "    if plot_zproj_contours:\n",
    "        ax.contour(X, Y, Z, zdir='z', offset=40, cmap=cm.coolwarm)\n",
    "    if plot_3d_contours:\n",
    "        ax.contour(X, Y, Z, cmap=cm.coolwarm, stride=100., alpha=1.)\n",
    "    if plot_surface:\n",
    "        ax.plot_surface(X, Y, Z, cmap=cm.coolwarm, alpha=0.2)\n",
    "    if plot_100isoquant:\n",
    "        f = np.vectorize(pf_z1)\n",
    "        xs = np.linspace(50, 500, num=50)\n",
    "        ys = f(xs, q, u, v)\n",
    "        ax.plot(xs, ys, q, color='green')\n",
    "    if plot_rts:\n",
    "        f = np.vectorize(pf_q)\n",
    "        xs = np.linspace(1, 500, num=50)\n",
    "        ys = np.linspace(1, 500, num=50)\n",
    "        ax.plot(xs, ys, f(xs, ys, u, v), color='black')\n",
    "\n",
    "    ax.set_xlabel('z2')\n",
    "    ax.set_xlim(0, 500)\n",
    "    ax.set_ylabel('z1')\n",
    "    ax.set_ylim(0, 500)\n",
    "    ax.set_zlabel('f(z1, z2)')\n",
    "    #ax.set_zlim(0, 1000)\n",
    "    plt.show()\n"
   ]
  },
  {
   "cell_type": "markdown",
   "metadata": {},
   "source": [
    "First, we define some 3D data arrays sampling discrete points in our continuous production function (using default $u = v = 0.5$). We will use these data arrays to plot the function in various ways (to get a better idea what it looks like).\n",
    "\n",
    "Run the following cell to display an interactive model of our productions function $f$, plotted in an isometric projection of 3D space (where $f(z_1, z_2)$ is _up_).\n"
   ]
  },
  {
   "cell_type": "markdown",
   "metadata": {},
   "source": [
    "# Model 1"
   ]
  },
  {
   "cell_type": "code",
   "execution_count": 9,
   "metadata": {},
   "outputs": [
    {
     "data": {
      "application/vnd.jupyter.widget-view+json": {
       "model_id": "48d55d1533114b558cee006c7648ee3d",
       "version_major": 2,
       "version_minor": 0
      },
      "text/plain": [
       "interactive(children=(Checkbox(value=False, description='plot_xproj_contours'), Checkbox(value=False, descript…"
      ]
     },
     "metadata": {},
     "output_type": "display_data"
    },
    {
     "data": {
      "text/plain": [
       "<function __main__.plot_f_contours(plot_xproj_contours=False, plot_yproj_contours=False, plot_zproj_contours=False, plot_3d_contours=False, plot_surface=False, plot_100isoquant=False, plot_rts=False, q=100.0, u=0.5, v=0.5)>"
      ]
     },
     "execution_count": 9,
     "metadata": {},
     "output_type": "execute_result"
    }
   ],
   "source": [
    "interact(plot_f_contours,\n",
    "         q=widgets.FloatSlider(value=100, min=1., max=500, step=10.),\n",
    "         u=widgets.FloatSlider(value=0.5, min=0.01, max=1.99, step=0.01),\n",
    "         v=widgets.FloatSlider(value=0.5, min=0.01, max=1.99, step=0.01))"
   ]
  },
  {
   "cell_type": "markdown",
   "metadata": {},
   "source": [
    "## Model 1 To Do\n",
    "\n",
    "1. If you set $q = 200$, $u = 0.25$, $v = 1.25$, and constrain $z_1 = z_2$, is the resulting production function increasing, decreasing, or constrant return to scale? What about if we set $q=100$? Take a screenshot of your model using these settings.\n",
    "\n",
    "2. Keeping the above parameters, what value of $v$ will yield constant returns to scale. Take a screenshot of your model with these settings."
   ]
  },
  {
   "cell_type": "markdown",
   "metadata": {},
   "source": [
    "# Model 2"
   ]
  },
  {
   "cell_type": "markdown",
   "metadata": {},
   "source": [
    "Run the following cell to display an interactive model, with controls for modifying several model parameters:\n",
    "* `q` (quantity produced);\n",
    "* `ix` (which point along the isoquant is displayed)\n",
    "* `u` and `v` (return to scale parameters for inputs $z_1$ and $z_2$);\n",
    "* `uc1` and `uc2` (unit cost of inputs $z_1$ and $z_2$)."
   ]
  },
  {
   "cell_type": "code",
   "execution_count": 10,
   "metadata": {},
   "outputs": [
    {
     "data": {
      "application/vnd.jupyter.widget-view+json": {
       "model_id": "101bb3d6085a452184e17717d162d316",
       "version_major": 2,
       "version_minor": 0
      },
      "text/plain": [
       "interactive(children=(FloatSlider(value=100.0, description='q', max=500.0, min=50.0, step=1.0), IntSlider(valu…"
      ]
     },
     "metadata": {},
     "output_type": "display_data"
    },
    {
     "data": {
      "text/plain": [
       "<function __main__.plot_isoquant(q, ix, u=0.5, v=0.5, uc1=10.0, uc2=10.0, nx=100, xmax=1000)>"
      ]
     },
     "execution_count": 10,
     "metadata": {},
     "output_type": "execute_result"
    }
   ],
   "source": [
    "interact(plot_isoquant, \n",
    "         q=widgets.FloatSlider(value=100, min=50, max=500, step=1),\n",
    "         ix=widgets.IntSlider(value=25, min=0, max=49),\n",
    "         u=widgets.FloatSlider(value=0.5, min=0.01, max=2.0, step=0.001),\n",
    "         v=widgets.FloatSlider(value=0.5, min=0.01, max=2.0, step=0.001),\n",
    "         nx=fixed(100), xmax=fixed(1000))"
   ]
  },
  {
   "cell_type": "markdown",
   "metadata": {},
   "source": [
    "## Model 2 To Do\n",
    "\n",
    "3. Using default model parameters, what combination of $z_1$ and $z_2$ values yields the minimum cost solution? What is the minimum cost? Take a screenshot.\n",
    "\n",
    "4. What combination of $z_1$ and $z_2$ values yields the minimum cost solution at $q = 200$? What is the minimum cost? Take a screenshot.\n",
    "\n",
    "5. What combination of $z_1$ and $z_2$ values yields the minimum cost solution at $q = 300$? What is the minimum cost? Take a screenshot.\n",
    "\n",
    "6. Start a new spreadsheet in Microsoft Excel, enter the data from 3-5, and plot $z_1$, $z_2$, and cost as a function of $q$.\n",
    "\n",
    "7. Repeat 6, but with $u = v = 0.48$, and $u = v = 0.52$. Relate these results to the theory on returns to scale. Submit your spreadsheet."
   ]
  },
  {
   "cell_type": "code",
   "execution_count": null,
   "metadata": {},
   "outputs": [],
   "source": []
  }
 ],
 "metadata": {
  "kernelspec": {
   "display_name": "Python 3",
   "language": "python",
   "name": "python3"
  },
  "language_info": {
   "codemirror_mode": {
    "name": "ipython",
    "version": 3
   },
   "file_extension": ".py",
   "mimetype": "text/x-python",
   "name": "python",
   "nbconvert_exporter": "python",
   "pygments_lexer": "ipython3",
   "version": "3.6.7"
  }
 },
 "nbformat": 4,
 "nbformat_minor": 2
}
