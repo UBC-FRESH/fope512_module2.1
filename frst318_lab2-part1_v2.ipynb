{
 "cells": [
  {
   "cell_type": "code",
   "execution_count": null,
   "metadata": {},
   "outputs": [],
   "source": [
    "from ipywidgets import interact, interactive, fixed, interact_manual\n",
    "import ipywidgets as widgets\n",
    "import pandas as pd\n",
    "import numpy as np\n",
    "import seaborn as sns\n",
    "import matplotlib.pyplot as plt\n",
    "#from matplotlib import cm\n",
    "#from mpl_toolkits.mplot3d import Axes3D\n",
    "%matplotlib inline\n",
    "\n",
    "from frst318 import plot_v, plot_cashflow, plot_lev"
   ]
  },
  {
   "cell_type": "markdown",
   "metadata": {},
   "source": [
    "# Financial Analysis"
   ]
  },
  {
   "cell_type": "markdown",
   "metadata": {},
   "source": [
    "Use this link to do the thing:\n",
    "\n",
    "https://ubc.syzygy.ca/jupyter/hub/user-redirect/git-pull?repo=https://github.com/gparadis/ubc-frst318&branch=master&subpath=frst318_lab2-part1.ipynb"
   ]
  },
  {
   "cell_type": "markdown",
   "metadata": {},
   "source": [
    "## Introduction\n",
    "\n",
    "Welcome to FRST-318 Lab 2, part 1. From the lab last week, you know how to navigate and run code in Jupyter notebooks. Let get started."
   ]
  },
  {
   "cell_type": "markdown",
   "metadata": {},
   "source": [
    "## Overview\n",
    "\n",
    "This notebook presents interactive models helping you explore financial analysis concepts like\n",
    "* discounting and compounding \n",
    "* cash flows\n",
    "* net present value\n",
    "\n",
    "### Discounting and Compounding\n",
    "\n",
    "_Compounding_ projects present value $V_0$, $n$ years forward, at discount rate $i$, yielding future value $V_n$.  \n",
    "_Discounting_ projects future value $V_n$, $n$ years back backward, at discount rate $i$, yielding present value $V_0$.  \n",
    "\n",
    "The compounding formula solves for future value $V_n$, given present value $V_0$.\n",
    "\n",
    "$$\n",
    "V_n = V_0(1 + i)^{n}\n",
    "$$\n",
    "\n",
    "The discounting formula solves for present value $V_0$, given future value $V_n$.\n",
    "\n",
    "$$\n",
    "V_0 = V_n(1 + i)^{-n}\n",
    "$$\n"
   ]
  },
  {
   "cell_type": "markdown",
   "metadata": {},
   "source": [
    "First, we define some Python functions that implement discounting and compounding, and a function that plots compounding or discounting of a single sum to a single other time period. "
   ]
  },
  {
   "cell_type": "markdown",
   "metadata": {},
   "source": [
    "Next, we interact with the simple model defined above. You can manipulate the reference value `v`, the number of years to project `n`, the interest rate `i`, and the function mode (`c` for compounding, `d` for discounting). "
   ]
  },
  {
   "cell_type": "code",
   "execution_count": null,
   "metadata": {},
   "outputs": [],
   "source": [
    "interact(plot_v, \n",
    "         v=widgets.FloatSlider(value=1., min=0.01, max=10., step=0.01),\n",
    "         n=widgets.IntSlider(value=10, min=0, max=100),\n",
    "         i=widgets.FloatSlider(value=0.050, min=0.01, max=0.10, step=0.001),\n",
    "         figsize=fixed((12, 6)))"
   ]
  },
  {
   "cell_type": "markdown",
   "metadata": {},
   "source": [
    "#### Question 1\n",
    "At what interest rate will \\$5.00 in year 14 be worth 60\\% of its original value in year 0? \n",
    "\n",
    "#### Question 2\n",
    "How many years does it take for \\$5.00 compounded at \\%2.0 to double in value? "
   ]
  },
  {
   "cell_type": "markdown",
   "metadata": {},
   "source": [
    "### Cash flows\n",
    "\n",
    "Next, we present a model of the Tracy Treefarmer problem from class."
   ]
  },
  {
   "cell_type": "code",
   "execution_count": null,
   "metadata": {},
   "outputs": [],
   "source": [
    "X = np.array([0, 1, 2, 3, 4, 5, 6])\n",
    "V = np.array([-990, -590, -590, -590, -590, -590, +7200])\n",
    "interact(plot_cashflow, X=fixed(X), V=fixed(V), figsize=fixed((12, 6)), x_scale=fixed(1.),\n",
    "         i=widgets.FloatSlider(value=0.05, min=0.00, max=0.20, step=0.001))"
   ]
  },
  {
   "cell_type": "markdown",
   "metadata": {},
   "source": [
    "## Internal Rate of Return\n",
    "\n",
    "The _internal rate of return_ (IRR) is the discount rate which induces a null NPV. You can find IRR by trial and error using the interactive models in this lab by adjusting the `r` (interest rate) parameter of the cash flow unit $NPV = 0$. "
   ]
  },
  {
   "cell_type": "markdown",
   "metadata": {},
   "source": [
    "#### Question 3\n",
    "\n",
    "What is the IRR of the cash flow in the Tracy Treefarmer problem?"
   ]
  },
  {
   "cell_type": "markdown",
   "metadata": {},
   "source": [
    "## Land Expectation Value (LEV)\n",
    "\n",
    "Now, lets have a look at _land expectation value_ (LEV).\n",
    "\n",
    "Recall from class that there are multiple different methods of calculating LEV, but that all methods must account for the same 4 value components:\n",
    "* establishment cost\n",
    "* intermediate revenues and costs\n",
    "* annual revenues and costs\n",
    "* final harvesting revenue and cost\n",
    "\n",
    "The following formula, adapted from McDill (1999), calculates the future value (at the end of the first rotation) for each of these value components, then applies the formula for an infinite series of periodic payments.\n",
    "\n",
    "$$\n",
    "LEV = \\frac{-E(1+r)^R + \\sum_{t=1}^{R-1}\\left[I_t(1+r)^{R-t}\\right] + A\\left[(1+r)^R - 1\\right]r^{-1} + \\sum_{p=1}^{n}P_pY_{pR} - C_h}{(1+r)^R - 1}\n",
    "$$\n",
    "\n",
    "where\n",
    "\n",
    "$R$ represents rotation length (in years),\n",
    "\n",
    "$E$ represents stand establishment cost (per unit area),\n",
    "\n",
    "$A$ represents net annual revenue (per unit area),\n",
    "\n",
    "$I_t$ represents net intermediate revenue (per unit area, occurring in the interval $[1, R)$),\n",
    "\n",
    "$Y_{pR}$ represents yield (per unit area) of product $p$ at age $R$,\n",
    "\n",
    "$P_p$ represents unit price of product $P$,\n",
    "\n",
    "$n$ represents the number of products in the final harvest,\n",
    "\n",
    "$C_h$ represents unit cost of final harvest,\n",
    "\n",
    "$r$ represents the real interest rate.\n",
    "\n",
    "The code below implements a functions that calculates LEV and plot LEV, and defines some parameters that we will use in the next step to create an interactive model for a specific case. \n",
    "\n",
    "Note that NPV reported below the figure is calculated on the (finite) rotations displayed in the plot. \n",
    "\n",
    "### Reference\n",
    "\n",
    "McDill, M. E. (1999). Forest resource management. Penn State Univ."
   ]
  },
  {
   "cell_type": "markdown",
   "metadata": {},
   "source": [
    "Next, we load some yield data from a file, and set unit price of softwood and hardwood to \\\\$100 per $m^3$."
   ]
  },
  {
   "cell_type": "code",
   "execution_count": null,
   "metadata": {},
   "outputs": [],
   "source": [
    "df = pd.read_csv('yields.csv', index_col='age') # import yield data from CSV file into a pandas.DataFrame\n",
    "ysw = {i:df.loc[i]['sw'] for i in df.index} # define yield dict from DataFrame (softwood)\n",
    "yhw = {i:df.loc[i]['hw'] for i in df.index} # define yield dict from DataFrame (hardwood)\n",
    "Y = {'sw':ysw, 'hw':yhw}                    # define yields dict (softwood, hardwood)\n",
    "P = {'sw':100., 'hw':100.}                  # define product unit price dict (softwood, hardwood)\n",
    "\n",
    "# You can specify ad hoc mid-rotation cash flows here (set to null by default).\n",
    "# The example below shows net revenue events of -100 in year 50 and +200 in year 60. \n",
    "#   I = {50:-100, 60:+200.}\n",
    "I = {}"
   ]
  },
  {
   "cell_type": "markdown",
   "metadata": {},
   "source": [
    "The LEV model includes two products (softwood and hardwood), and the model is set up so that yield $Y_{pR}$ at final harvest changes as a function of both product $p$ and rotation length $R$. \n",
    "\n",
    "Lets have a look at the yield curves, which were borrowed from the Patchworks C5 sample dataset (a wood supply model for the foothills of Alberta). In order, we show softwood, hardwood and total yield (dotted grey line show peak MAI age). This should give you an idea what the optimal rotation is from a pure fibre production point of view."
   ]
  },
  {
   "cell_type": "code",
   "execution_count": null,
   "metadata": {},
   "outputs": [],
   "source": [
    "fig, ax = plt.subplots(3, 1, figsize=(12, 6))\n",
    "df['ty'] = df['sw'] + df['hw']\n",
    "for i, s in enumerate(['sw', 'hw', 'ty']):\n",
    "    df['mai_%s' % s] = df[s] / df.index\n",
    "    df[s].plot(ax=ax[i])\n",
    "    cmai_age = df['mai_%s' % s].idxmax()\n",
    "    ax[i].axvline(cmai_age, color='gray', linestyle=':')\n",
    "    ax[i].set_xlabel('Age (years)')\n",
    "    ax[i].set_ylabel('%s volume (m3/ha)' % s)"
   ]
  },
  {
   "cell_type": "markdown",
   "metadata": {},
   "source": [
    "Run the cell below to display an interactive LEV model."
   ]
  },
  {
   "cell_type": "code",
   "execution_count": null,
   "metadata": {},
   "outputs": [],
   "source": [
    "interact(plot_lev,\n",
    "         R=widgets.FloatSlider(value=100., min=10., max=200., step=5.),\n",
    "         E=widgets.FloatSlider(value=500., min=0., max=2000., step=100.),\n",
    "         A=widgets.FloatSlider(value=0., min=-100., max=100., step=10.),\n",
    "         I=fixed(I),\n",
    "         Y=fixed(Y),\n",
    "         P=fixed(P),\n",
    "         Ch=widgets.FloatSlider(value=500., min=0., max=2000., step=100.),\n",
    "         r=widgets.FloatSlider(value=0.01, min=0.01, max=0.20, step=0.001),\n",
    "         N=widgets.IntSlider(value=1, min=1, max=20))"
   ]
  },
  {
   "cell_type": "markdown",
   "metadata": {},
   "source": [
    "#### Question 4\n",
    "\n",
    "Using default model parameters, what is the relative contribution to LEV of including rotation 6? Rotation 7?\n",
    "\n",
    "#### Question 5\n",
    "\n",
    "Using default model parameters and 5 rotations, what is the IRR of this scenario? What is the IRR if you increase rotation length to 120 years? Using only IRR as a criterion, which rotation length is best."
   ]
  },
  {
   "cell_type": "code",
   "execution_count": null,
   "metadata": {},
   "outputs": [],
   "source": []
  }
 ],
 "metadata": {
  "kernelspec": {
   "display_name": "Python 3",
   "language": "python",
   "name": "python3"
  },
  "language_info": {
   "codemirror_mode": {
    "name": "ipython",
    "version": 3
   },
   "file_extension": ".py",
   "mimetype": "text/x-python",
   "name": "python",
   "nbconvert_exporter": "python",
   "pygments_lexer": "ipython3",
   "version": "3.6.7"
  }
 },
 "nbformat": 4,
 "nbformat_minor": 2
}
