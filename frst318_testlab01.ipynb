{
 "cells": [
  {
   "cell_type": "markdown",
   "metadata": {},
   "source": [
    "# FRST-318 Test Lab 01"
   ]
  },
  {
   "cell_type": "markdown",
   "metadata": {},
   "source": [
    "This is a proof-of-concept test notebook inside the new GitHub repo for FRST-318. We would like to use the Jupyter Notebook medium to run interactive lab exercises with the students. Let's see how she goes..."
   ]
  },
  {
   "cell_type": "code",
   "execution_count": null,
   "metadata": {},
   "outputs": [],
   "source": [
    "from ipywidgets import interact, interactive, fixed, interact_manual\n",
    "import ipywidgets as widgets\n",
    "import pandas as pd\n",
    "import numpy as np\n",
    "import seaborn as sns\n",
    "import matplotlib.pyplot as plt"
   ]
  },
  {
   "cell_type": "markdown",
   "metadata": {},
   "source": [
    "# Isoquants Interactive Demo"
   ]
  },
  {
   "cell_type": "markdown",
   "metadata": {},
   "source": [
    "The following is an example of how we might use the notebook medium to recap a lecture on basic microeconomic principles. At each step, we briefly describe a concept using text and mathematical notation, then implement the concept using Python code."
   ]
  },
  {
   "cell_type": "markdown",
   "metadata": {},
   "source": [
    "### Production functions"
   ]
  },
  {
   "cell_type": "markdown",
   "metadata": {},
   "source": [
    "The Cobb-Douglas production function $F$ has the form\n",
    "\n",
    "$$\n",
    "F(z_1, z_2) = A {z_1}^u {z_2}^v\n",
    "$$\n",
    "\n",
    "The $y$-isoquants of $F$ are given by\n",
    "\n",
    "$$\n",
    "y = A {z_1}^u {z_2}^v\n",
    "$$\n",
    "\n",
    "where $y$ is a fixed (arbitrary) value of $F$."
   ]
  },
  {
   "cell_type": "code",
   "execution_count": null,
   "metadata": {},
   "outputs": [],
   "source": [
    "def cobb_douglas_L(K, Q, alpha=0.5):\n",
    "    L = (Q/K**alpha)**(1/(1-alpha))\n",
    "    return L"
   ]
  },
  {
   "cell_type": "code",
   "execution_count": null,
   "metadata": {},
   "outputs": [],
   "source": [
    "def cobb_douglas_production(z1, A=1., u=0.5, v=0.5):\n",
    "    return A * pow(z1, u) * pow(1 - z1, v)"
   ]
  },
  {
   "cell_type": "code",
   "execution_count": null,
   "metadata": {},
   "outputs": [],
   "source": [
    "def plot_isoquant(Q, ik, alpha=0.5, nk=100, r=40., w=25.):\n",
    "    fig = plt.gcf()\n",
    "    f = np.vectorize(cobb_douglas_L)\n",
    "    K = np.linspace(1, 1000, num=nk)\n",
    "    k = K[ik]\n",
    "    L = f(K, Q, alpha)\n",
    "    l = f(k, Q, alpha)\n",
    "    plt.plot(K, L)\n",
    "    plt.scatter(k, f(k, Q, alpha))\n",
    "    rts = (alpha/(1-alpha))*f(k, Q, alpha)/k\n",
    "    m_ktan = k*rts + l\n",
    "    (r*k + w*l)/w\n",
    "    plt.plot([0, m_ktan/rts], [m_ktan, 0], linestyle=':')\n",
    "    plt.plot([0, (r*k + w*l)/r], [(r*k + w*l)/w, 0], linestyle='-')\n",
    "    plt.xlim(0, 500)\n",
    "    plt.ylim(0, 500)\n",
    "    fig.set_size_inches(8, 8)\n",
    "    plt.show()"
   ]
  },
  {
   "cell_type": "code",
   "execution_count": null,
   "metadata": {},
   "outputs": [],
   "source": [
    "interact(plot_isoquant, \n",
    "         Q=widgets.FloatSlider(value=100, min=50, max=500, step=1),\n",
    "         ik=widgets.IntSlider(value=25, min=0, max=49),\n",
    "         alpha=widgets.FloatSlider(value=0.5, min=0.001, max=0.999, step=0.001),\n",
    "         nk=fixed(100), r=fixed(25), w=fixed(25))"
   ]
  },
  {
   "cell_type": "code",
   "execution_count": null,
   "metadata": {},
   "outputs": [],
   "source": []
  }
 ],
 "metadata": {
  "kernelspec": {
   "display_name": "Python 3",
   "language": "python",
   "name": "python3"
  },
  "language_info": {
   "codemirror_mode": {
    "name": "ipython",
    "version": 3
   },
   "file_extension": ".py",
   "mimetype": "text/x-python",
   "name": "python",
   "nbconvert_exporter": "python",
   "pygments_lexer": "ipython3",
   "version": "3.6.4"
  }
 },
 "nbformat": 4,
 "nbformat_minor": 2
}
