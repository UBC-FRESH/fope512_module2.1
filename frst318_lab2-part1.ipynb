{
 "cells": [
  {
   "cell_type": "code",
   "execution_count": null,
   "metadata": {},
   "outputs": [],
   "source": [
    "from ipywidgets import interact, interactive, fixed, interact_manual\n",
    "import ipywidgets as widgets\n",
    "import pandas as pd\n",
    "import numpy as np\n",
    "import seaborn as sns\n",
    "import matplotlib.pyplot as plt\n",
    "from matplotlib import cm\n",
    "from mpl_toolkits.mplot3d import Axes3D\n",
    "%matplotlib inline"
   ]
  },
  {
   "cell_type": "markdown",
   "metadata": {},
   "source": [
    "# Financial Analysis"
   ]
  },
  {
   "cell_type": "markdown",
   "metadata": {},
   "source": [
    "Use this link to do the thing:\n",
    "\n",
    "https://ubc.syzygy.ca/jupyter/hub/user-redirect/git-pull?repo=https://github.com/gparadis/ubc-frst318&branch=master&subpath=frst318_lab2-part1.ipynb"
   ]
  },
  {
   "cell_type": "markdown",
   "metadata": {},
   "source": [
    "## Introduction\n",
    "\n",
    "Welcome to FRST-318 Lab 2, part 1. From the lab last week, you know how to navigate and run code in Jupyter notebooks. Let get started."
   ]
  },
  {
   "cell_type": "markdown",
   "metadata": {},
   "source": [
    "## Overview\n",
    "\n",
    "This notebook presents interactive models helping you explore financial analysis concepts like\n",
    "* discounting and compounding \n",
    "* cash flows\n",
    "* net present value\n",
    "\n",
    "### Discounting and Compounding\n",
    "\n",
    "The notion of _interest_ is the \n",
    "\n",
    "_Discounting_ projects present value $V_0$, $n$ years forward, at discount rate $i$, yielding future value $V_n$.  \n",
    "_Compounding_ projects future value $V_n$, $n$ years back backward, at discount rate $i$, yielding present value $V_0$.  \n",
    "\n",
    "The compounding formula solves for future value $V_n$, given present value $V_0$.\n",
    "\n",
    "$$\n",
    "V_n = V_0(1 + i)^{n}\n",
    "$$\n",
    "\n",
    "The discounting formula solves for present value $V_0$, given future value $V_n$.\n",
    "\n",
    "$$\n",
    "V_0 = V_n(1 + i)^{-n}\n",
    "$$\n"
   ]
  },
  {
   "cell_type": "code",
   "execution_count": null,
   "metadata": {},
   "outputs": [],
   "source": [
    "def discount(v, n, i):\n",
    "    return v * ((1 + i)**-n)\n",
    "\n",
    "def compound(v, n, i):\n",
    "    return v * ((1 + i)**+n)\n",
    "\n",
    "def plot_v(v=1., n=10, i=0.05, mode='c', figsize=(12, 6)):\n",
    "    fig, ax = plt.subplots(figsize=figsize)\n",
    "    x = [0, n]\n",
    "    y = [v, compound(v, n, i)] if mode == 'c' else [discount(v, n, i), v]\n",
    "    ax.bar(x, y)\n",
    "    ax.set_xlabel('n')\n",
    "    ax.set_ylabel('V')"
   ]
  },
  {
   "cell_type": "code",
   "execution_count": null,
   "metadata": {},
   "outputs": [],
   "source": [
    "interact(plot_v, \n",
    "         v=widgets.FloatSlider(value=1., min=0.01, max=10., step=0.01),\n",
    "         n=widgets.IntSlider(value=10, min=0, max=100),\n",
    "         i=widgets.FloatSlider(value=0.05, min=0.01, max=0.10, step=0.01),\n",
    "         figsize=fixed((12, 6)))"
   ]
  },
  {
   "cell_type": "code",
   "execution_count": null,
   "metadata": {},
   "outputs": [],
   "source": [
    "def npv(X, V, i):\n",
    "    I = [i for x in X]\n",
    "    return sum(np.vectorize(discount)(V, X, I))\n",
    "\n",
    "def plot_cashflow(X, V, i=0.05, figsize=(12, 6), x_scale=1.):\n",
    "    _npv = npv(X, V, i)\n",
    "    _V = np.vectorize(discount)(V, X, [i for x in X])\n",
    "    fig, ax = plt.subplots(figsize=figsize)\n",
    "    ax.bar(X * x_scale, V, alpha=0.5, label='Cashflow')\n",
    "    ax.bar(X * x_scale, _V, alpha=0.5, label='Cashflow')    \n",
    "    ax.bar(0, _npv, alpha=0.5, label='NPV')\n",
    "    plt.axhline(0.)\n",
    "    ax.set_xlabel('Period')\n",
    "    ax.set_ylabel('V')\n",
    "    plt.xticks([i for i in range(int(X[-1]*x_scale+1))])\n",
    "    plt.legend()\n",
    "    plt.show()\n",
    "    print('NPV at i=%0.3f: $%0.2f' % (i, _npv))"
   ]
  },
  {
   "cell_type": "code",
   "execution_count": null,
   "metadata": {},
   "outputs": [],
   "source": [
    "X = np.array([0, 1, 2, 3, 4, 5, 6])\n",
    "V = np.array([-990, -590, -590, -590, -590, -590, +7200])\n",
    "interact(plot_cashflow, X=fixed(X), V=fixed(V), figsize=fixed((12, 6)), x_scale=fixed(1.),\n",
    "         i=widgets.FloatSlider(value=0.05, min=0.01, max=0.10, step=0.01))"
   ]
  },
  {
   "cell_type": "markdown",
   "metadata": {},
   "source": [
    "Now, lets have a look at _land expectation value_ (LEV).\n",
    "\n",
    "Recall from class that there are multiple different methods of calculating LEV, but that all methods must account for the same 4 value components:\n",
    "* establishment cost\n",
    "* intermediate revenues and costs\n",
    "* annual revenues and costs\n",
    "* final harvesting revenue and cost\n",
    "\n",
    "The following formula calculates the future value (at the end of the first rotation) for each of these value components, then applies the formula for an infinite series of periodic payments.\n",
    "\n",
    "$$\n",
    "LEV = \\frac{-E(1+r)^R + \\sum_{t=1}^{R-1}\\left[I_t(1+r)^{R-t}\\right] + A\\left[(1+r)^R - 1\\right]r^{-1} + \\sum_{p=1}^{n}\\left[P_pY_{pR} - C_h\\right]}{(1+r)^R - 1}\n",
    "$$\n",
    "\n",
    "Where\n",
    "\n",
    "$R$ represents rotation length (in years),\n",
    "$E$ represents stand establishment cost (per unit area),\n",
    "$A$ represents net annual revenue (per unit area),\n",
    "$I_t$ represents net intermediate revenue (per unit area, occurring in the interval $[1, R)$),\n",
    "$Y_{pR}$ represents yield (per unit area) of product $p$ at age $R$,\n",
    "$P_p$ represents unit price of product $P$,\n",
    "$n$ represents the number of products in the final harvest,\n",
    "$C_h$ represents unit cost of final harvest,\n",
    "$r$ represents the real interest rate.\n",
    "\n",
    "The code below implements a function that calculates LEV for us, given the "
   ]
  },
  {
   "cell_type": "code",
   "execution_count": null,
   "metadata": {},
   "outputs": [],
   "source": [
    "def lev(R, E, A, I, Y, P, Ch, r):\n",
    "    result = -E * pow(1 + r, R)\n",
    "    result += sum(I[t] * pow(1 + r, R - t) for t in I)\n",
    "    result += A * (pow(1 + r, R) - 1) / r\n",
    "    result += sum(P[p] * Y[p][R] - Ch for p in P)\n",
    "    result /= pow(1 + r, R) - 1\n",
    "    return result\n",
    "\n",
    "def plot_lev(R, E, A, I, Y, P, Ch, r, n):\n",
    "    X = np.array([(i + 1) * R for i in range(n)])\n",
    "    V = np.array([lev(R, E, A, I, Y, P, Ch, r) for i in range(n)])\n",
    "    return plot_cashflow(X, V, i=r, x_scale=pow(R, -1))\n",
    "\n",
    "df = pd.read_csv('yields.csv', index_col='age')\n",
    "\n",
    "\n",
    "ysw = {i:df.loc[i]['sw'] for i in df.index}\n",
    "yhw = {i:df.loc[i]['hw'] for i in df.index}\n",
    "Y = {'sw':ysw, 'hw':yhw}\n",
    "P = {'sw':100., 'hw':100.}\n",
    "#Ch = 200.\n",
    "#r = 0.01\n",
    "#lev(R, E, A, I, Y, P, Ch, r)"
   ]
  },
  {
   "cell_type": "code",
   "execution_count": null,
   "metadata": {},
   "outputs": [],
   "source": [
    "# You can specify ad hoc mid-rotation cash flows here.\n",
    "# The example below shows net revenue events of -100 in year 50 and +200 in year 60. \n",
    "#   I = {50:-100, 60:+200.}\n",
    "I = {}"
   ]
  },
  {
   "cell_type": "code",
   "execution_count": null,
   "metadata": {},
   "outputs": [],
   "source": [
    "interact(plot_lev,\n",
    "         R=widgets.FloatSlider(value=100., min=50., max=200., step=10.),\n",
    "         E=widgets.FloatSlider(value=500., min=0., max=2000., step=100.),\n",
    "         A=widgets.FloatSlider(value=0., min=-100., max=100., step=10.),\n",
    "         I=fixed(I),\n",
    "         Y=fixed(Y),\n",
    "         P=fixed(P),\n",
    "         Ch=widgets.FloatSlider(value=500., min=0., max=2000., step=100.),\n",
    "         r=widgets.FloatSlider(value=0.01, min=0.01, max=0.10, step=0.001),\n",
    "         n=widgets.IntSlider(value=1, min=1, max=10))"
   ]
  },
  {
   "cell_type": "code",
   "execution_count": null,
   "metadata": {},
   "outputs": [],
   "source": []
  }
 ],
 "metadata": {
  "kernelspec": {
   "display_name": "Python 3",
   "language": "python",
   "name": "python3"
  },
  "language_info": {
   "codemirror_mode": {
    "name": "ipython",
    "version": 3
   },
   "file_extension": ".py",
   "mimetype": "text/x-python",
   "name": "python",
   "nbconvert_exporter": "python",
   "pygments_lexer": "ipython3",
   "version": "3.6.7"
  }
 },
 "nbformat": 4,
 "nbformat_minor": 2
}
